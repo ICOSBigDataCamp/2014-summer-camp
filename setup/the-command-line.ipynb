{
 "metadata": {
  "name": "",
  "signature": "sha256:f747fb6e4d4cc9fc357f26280656947b46e571de6da6096bcf29ea71dcd58bdc"
 },
 "nbformat": 3,
 "nbformat_minor": 0,
 "worksheets": [
  {
   "cells": [
    {
     "cell_type": "heading",
     "level": 1,
     "metadata": {},
     "source": [
      "In the Beginning was the Command Line"
     ]
    },
    {
     "cell_type": "markdown",
     "metadata": {},
     "source": [
      "Author: Matt Burton"
     ]
    },
    {
     "cell_type": "code",
     "collapsed": false,
     "input": [],
     "language": "python",
     "metadata": {},
     "outputs": []
    }
   ],
   "metadata": {}
  }
 ]
}