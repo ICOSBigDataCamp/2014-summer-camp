{
 "metadata": {
  "name": "",
  "signature": "sha256:dc7ec0d883bdbb9eade5fced713bc805d28d1cefdf70ac369e5a3a3efa0f31f6"
 },
 "nbformat": 3,
 "nbformat_minor": 0,
 "worksheets": [
  {
   "cells": [
    {
     "cell_type": "markdown",
     "metadata": {},
     "source": [
      "#Data for playing around in SQL\n",
      "\n",
      "We have a few data files available for playing around.\n",
      "\n",
      "\n",
      "\n",
      "## The Data files\n",
      "\n",
      "* [BDC Knowledge Institutions.txt]() - Contains a list of public and acadmic research libraries with some data about them. (From Felix Kabo)\n",
      "* [NIH Funding FY2013.txt]() - Funding by organization for 2013 (From Felix Kabo)\n",
      "* [direct99.csv]() - List of companies and their directors\n",
      "* [Interlocks-1999.csv]() - List of companies and directors with inter-connections\n",
      "\n",
      "### Useful lookup tables\n",
      "\n",
      "* [states.csv]() - a mapping between state names and abbriviations\n"
     ]
    },
    {
     "cell_type": "code",
     "collapsed": false,
     "input": [],
     "language": "python",
     "metadata": {},
     "outputs": []
    }
   ],
   "metadata": {}
  }
 ]
}