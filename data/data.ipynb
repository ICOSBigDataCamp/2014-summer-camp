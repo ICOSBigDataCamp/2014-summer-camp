{
 "metadata": {
  "name": "",
  "signature": "sha256:9743e6119d4fcc720503584e38fdd2b6f24aaa9e7d76f12666325714a3c54278"
 },
 "nbformat": 3,
 "nbformat_minor": 0,
 "worksheets": [
  {
   "cells": [
    {
     "cell_type": "markdown",
     "metadata": {},
     "source": [
      "#Data for playing around in SQL\n",
      "\n",
      "We have a few data files available for playing around.\n",
      "\n",
      "\n",
      "\n",
      "## The Data files\n",
      "\n",
      "* [BDC Knowledge Institutions.txt](data/BDC Knowledge Institutions.txt) - Contains a list of public and acadmic research libraries with some data about them. (From Felix Kabo)\n",
      "* [NIH Funding FY2013.txt](data/NIH Funding FY2013.txt) - Funding by organization for 2013 (From Felix Kabo)\n",
      "* [direct99.csv](data/direct99.csv) - List of companies and their directors\n",
      "* [Interlocks-1999.csv](data/Interlocks-1999.csv) - List of companies and directors with inter-connections\n",
      "\n",
      "### Useful lookup tables\n",
      "\n",
      "* [states.csv](data/states.csv) - a mapping between state names and abbriviations\n"
     ]
    }
   ],
   "metadata": {}
  }
 ]
}